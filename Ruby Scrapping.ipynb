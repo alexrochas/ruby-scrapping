{
 "cells": [
  {
   "cell_type": "code",
   "execution_count": null,
   "metadata": {},
   "outputs": [],
   "source": [
    "require 'watir'\n",
    "require 'nokogiri'\n",
    "require 'dotenv/load'\n",
    "\n",
    "root_path = ENV['URL'] + 'categorias/'"
   ]
  },
  {
   "cell_type": "code",
   "execution_count": null,
   "metadata": {},
   "outputs": [],
   "source": [
    "# browser = Watir::Browser.new :chrome, headless: true #headless chrome\n",
    "browser = Watir::Browser.new :chrome\n",
    "\n",
    "'Start browser'"
   ]
  },
  {
   "cell_type": "code",
   "execution_count": null,
   "metadata": {},
   "outputs": [],
   "source": [
    "browser.goto root_path"
   ]
  },
  {
   "cell_type": "code",
   "execution_count": null,
   "metadata": {},
   "outputs": [],
   "source": [
    "document = Nokogiri::HTML(browser.html)"
   ]
  },
  {
   "cell_type": "code",
   "execution_count": null,
   "metadata": {},
   "outputs": [],
   "source": [
    "categories = document.css(\"a[class='tags']\")"
   ]
  },
  {
   "cell_type": "code",
   "execution_count": null,
   "metadata": {},
   "outputs": [],
   "source": [
    "url = ENV['URL']\n",
    "\n",
    "paths = categories.map { |c| \n",
    "    path = c.attr('href')\n",
    "  }"
   ]
  },
  {
   "cell_type": "code",
   "execution_count": null,
   "metadata": {},
   "outputs": [],
   "source": [
    "browser.goto url + paths[0]"
   ]
  },
  {
   "cell_type": "code",
   "execution_count": null,
   "metadata": {
    "scrolled": false
   },
   "outputs": [],
   "source": [
    "pages = Nokogiri::HTML(browser.html)"
   ]
  },
  {
   "cell_type": "code",
   "execution_count": null,
   "metadata": {},
   "outputs": [],
   "source": [
    "last_page = pages.css('.row a').map { |a| \n",
    "    a.text\n",
    "  }.reject { |a| \n",
    "    a.include? '>' or a.include? '<' \n",
    "  }.last"
   ]
  },
  {
   "cell_type": "code",
   "execution_count": null,
   "metadata": {},
   "outputs": [],
   "source": [
    "recipies = (1..20).map { |index| #just to do a small fetch\n",
    "#recipies = (1..last_page.to_i).map { |index| # run over all pages, commonly around 2k\n",
    "\n",
    "    puts index\n",
    "    browser.goto url + paths[0] + \"?page=#{index}\"\n",
    "    recipies = browser.elements(class: ['box-hover', 'box-big-item']).map { |e|\n",
    "      e.href\n",
    "    }.map { |r_url| \n",
    "      browser.goto r_url\n",
    "      recipie = Nokogiri::HTML(browser.html)\n",
    "      ingredients = recipie.at_css(\"div[id='info-user']\").css('li').map { |l| \n",
    "        l.text\n",
    "      }\n",
    "      recipe_name = recipie.at_css(\"div[class='recipe-title']\").css('h1').text.delete!(\"\\n\")\n",
    "      { recipe_name => ingredients }\n",
    "    }\n",
    "    recipies\n",
    "  }\n"
   ]
  },
  {
   "cell_type": "code",
   "execution_count": null,
   "metadata": {},
   "outputs": [],
   "source": []
  }
 ],
 "metadata": {
  "kernelspec": {
   "display_name": "Ruby 2.4.1",
   "language": "ruby",
   "name": "ruby"
  },
  "language_info": {
   "file_extension": ".rb",
   "mimetype": "application/x-ruby",
   "name": "ruby",
   "version": "2.4.1"
  }
 },
 "nbformat": 4,
 "nbformat_minor": 2
}
